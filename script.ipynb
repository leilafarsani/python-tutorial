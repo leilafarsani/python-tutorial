{
 "cells": [
  {
   "cell_type": "markdown",
   "metadata": {},
   "source": [
    "# python-tutorial\n",
    "### Introduction\n",
    "\n",
    "#### Definition\n",
    "Python is a dynamic and strongly typed programming language. It employs both duck typing and gradual typing, via type hints.\n",
    "\n",
    "Imperative, declarative (e.g., functional), and object-oriented programming styles are all supported, but internally everything in Python is an object.\n",
    "\n",
    "Python puts a strong emphasis on code readability and (similar to Haskell) uses significant indentation to denote function, method, and class definitions.\n",
    "\n",
    "Python was created by Guido van Rossum and first released in 1991.\n",
    "\n",
    "#### Why Python?\n",
    "\n",
    "1.\tReadability: Python’s syntax is designed to be clear and straightforward. It reads almost like plain English, making it easy for newcomers to understand and write code.\n",
    "2.\tVersatility: Python is a Swiss Army knife of programming languages. You can use it for web development, data analysis, scientific computing, automation, artificial intelligence, and more.\n",
    "3.\tLarge Community: Python boasts a vibrant and supportive community. There are countless tutorials, libraries, and forums to help you learn and solve problems.\n",
    "4.\tCross-Platform: Whether you use Windows, macOS, or Linux, Python works seamlessly on all major operating systems.\n",
    "5.\tRich Ecosystem: Python comes with a vast standard library that provides pre-built modules for various tasks, saving \n",
    "\tyou time and effort.\n",
    "\n",
    "\n",
    "\n",
    "\n",
    "### Comment \n",
    "We can add comments to our Python scripts. Comments are important to make sure that you and others can understand what your code is about and do not run as Python code. They start with # tag. \n",
    "\n",
    "### Python as a calculator\n",
    "\n",
    "Python is perfectly suited to do basic calculations. It can do addition, subtraction, multiplication and division.\n",
    "\n"
   ]
  }
 ],
 "metadata": {
  "language_info": {
   "name": "python"
  }
 },
 "nbformat": 4,
 "nbformat_minor": 2
}
