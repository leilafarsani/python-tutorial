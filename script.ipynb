{
 "cells": [
  {
   "cell_type": "markdown",
   "metadata": {},
   "source": [
    "# python-tutorial\n",
    "### Introduction\n",
    "\n",
    "#### Definition\n",
    "Python is a dynamic and strongly typed programming language. It employs both duck typing and gradual typing, via type hints.\n",
    "\n",
    "Imperative, declarative (e.g., functional), and object-oriented programming styles are all supported, but internally everything in Python is an object.\n",
    "\n",
    "Python puts a strong emphasis on code readability and (similar to Haskell) uses significant indentation to denote function, method, and class definitions.\n",
    "\n",
    "Python was created by Guido van Rossum and first released in 1991.\n",
    "\n",
    "#### Why Python?\n",
    "\n",
    "1.\tReadability: Python’s syntax is designed to be clear and straightforward. It reads almost like plain English, making it easy for newcomers to understand and write code.\n",
    "2.\tVersatility: Python is a Swiss Army knife of programming languages. You can use it for web development, data analysis, scientific computing, automation, artificial intelligence, and more.\n",
    "3.\tLarge Community: Python boasts a vibrant and supportive community. There are countless tutorials, libraries, and forums to help you learn and solve problems.\n",
    "4.\tCross-Platform: Whether you use Windows, macOS, or Linux, Python works seamlessly on all major operating systems.\n",
    "5.\tRich Ecosystem: Python comes with a vast standard library that provides pre-built modules for various tasks, saving \n",
    "\tyou time and effort.\n",
    "\n",
    "\n",
    "\n",
    "\n",
    "### Comment \n",
    "We can add comments to our Python scripts. Comments are important to make sure that you and others can understand what your code is about and do not run as Python code. They start with # tag. \n",
    "\n",
    "\n",
    "\n",
    "\n"
   ]
  },
  {
   "cell_type": "markdown",
   "metadata": {},
   "source": [
    "\n",
    "### Python as a calculator\n",
    "Python is perfectly suited to do basic calculations. It can do addition, subtraction, multiplication and division."
   ]
  },
  {
   "cell_type": "code",
   "execution_count": 5,
   "metadata": {},
   "outputs": [
    {
     "name": "stdout",
     "output_type": "stream",
     "text": [
      "9\n",
      "0\n",
      "15\n",
      "5.0\n"
     ]
    }
   ],
   "source": [
    "# Addition\n",
    "print(4+5)\n",
    "\n",
    "# Subtraction\n",
    "print(5 - 5)\n",
    "\n",
    "# Multiplication\n",
    "print(3*5)\n",
    "\n",
    "# Division\n",
    "print(10/2)\n"
   ]
  },
  {
   "cell_type": "markdown",
   "metadata": {},
   "source": [
    "### Variables \n",
    "\n",
    " A variable is a name that refers to a value stored in the computer's memory. It acts as a placeholder or a label, allowing programmers to access and manipulate data throughout their code. In Python, a variable allows you to refer to a value with a name. Variables are created by assigning a value to them using the equal sign (=), and their values can be changed as needed.\n",
    " \n",
    "\n",
    "Python is dynamically typed, meaning we don't need to declare a variable's type ahead of time; the type is inferred at runtime based on the assigned value."
   ]
  },
  {
   "cell_type": "code",
   "execution_count": 6,
   "metadata": {},
   "outputs": [
    {
     "name": "stdout",
     "output_type": "stream",
     "text": [
      "10\n"
     ]
    },
    {
     "data": {
      "text/plain": [
       "'Leila'"
      ]
     },
     "execution_count": 6,
     "metadata": {},
     "output_type": "execute_result"
    }
   ],
   "source": [
    "x = 10        # An integer assignment\n",
    "name = \"Leila\" # A string assignment\n",
    "\n",
    "# Here, x and name are variables. x holds an integer value 10, and name holds the string \"Leila\".\n",
    "\n",
    "print(x)\n",
    "name"
   ]
  },
  {
   "cell_type": "code",
   "execution_count": 7,
   "metadata": {},
   "outputs": [
    {
     "name": "stdout",
     "output_type": "stream",
     "text": [
      "100\n"
     ]
    }
   ],
   "source": [
    "# Create a variable savings\n",
    "savings = 100\n",
    "\n",
    "# Print out savings\n",
    "print(savings)"
   ]
  },
  {
   "cell_type": "markdown",
   "metadata": {},
   "source": [
    "#### Calculations with variables\n",
    "You've now created a savings variable, so let's start saving!\n",
    "\n",
    "Instead of calculating with the actual values, you can use variables instead. The savings variable you created in the previous exercise with a value of 100 is available to you.\n",
    "\n",
    "How much money would you have saved four months from now, if you saved £10 each month?"
   ]
  },
  {
   "cell_type": "code",
   "execution_count": 8,
   "metadata": {},
   "outputs": [
    {
     "name": "stdout",
     "output_type": "stream",
     "text": [
      "140\n"
     ]
    }
   ],
   "source": [
    "# Create the variables monthly_savings and num_months\n",
    "monthly_savings = 10\n",
    "num_months = 4\n",
    "\n",
    "# Multiply monthly_savings and num_months\n",
    "new_savings = monthly_savings * num_months\n",
    "\n",
    "# Add new_savings to your savings\n",
    "total_savings = savings + new_savings\n",
    "\n",
    "# Print total_savings\n",
    "print(total_savings)\n"
   ]
  },
  {
   "cell_type": "markdown",
   "metadata": {},
   "source": [
    "### Variables Type (Data Types in Python)\n",
    "\n",
    "1. integers (int): Used for whole numbers.\n",
    "2. Floating-point numbers (float): Used for numbers with decimals or in exponential form.\n",
    "3. Strings (str): Used for textual data. You can use single or double quotes to build a string.\n",
    "4. Booleans (bool): a type to represent logical values. It can only be True or False (the capitalization is important!).\n",
    "5. Lists (list): Mutable sequences used to store collections of items (elements can be added, removed, or changed).\n",
    "6. Tuples (tuple): Immutable sequences, meaning once created, their elements cannot be changed.\n",
    "7. Dictionaries (dict): Mutable collections that store data as key-value pairs.\n",
    "8. Sets (set): Mutable collections of unique elements used to perform common set operations.\n",
    "9. Each of these types plays a crucial role in handling data in Python, enabling developers to solve a wide "
   ]
  },
  {
   "cell_type": "code",
   "execution_count": 9,
   "metadata": {},
   "outputs": [],
   "source": [
    "# Create a variable half\n",
    "half = 0.5\n",
    "\n",
    "# Create a variable intro\n",
    "intro = \"Hello! How are you?\"\n",
    "\n",
    "# Create a variable is_good\n",
    "is_good = True "
   ]
  },
  {
   "cell_type": "markdown",
   "metadata": {},
   "source": [
    "#### Guess the type\n",
    "To find out the type of a value or a variable that refers to that value, you can use the type() function. Suppose you've defined a variable a, but you forgot the type of this variable. To determine the type of a, simply execut: type(a)\n",
    "\n"
   ]
  },
  {
   "cell_type": "code",
   "execution_count": 10,
   "metadata": {},
   "outputs": [
    {
     "data": {
      "text/plain": [
       "float"
      ]
     },
     "execution_count": 10,
     "metadata": {},
     "output_type": "execute_result"
    }
   ],
   "source": [
    "type(half)"
   ]
  },
  {
   "cell_type": "markdown",
   "metadata": {},
   "source": [
    "#### Operations with other types\n",
    "Note: Different types behave differently in Python.\n",
    "\n",
    "When you sum two strings, for example, you'll get different behavior than when you sum two integers or two booleans.\n"
   ]
  },
  {
   "cell_type": "code",
   "execution_count": 11,
   "metadata": {},
   "outputs": [
    {
     "name": "stdout",
     "output_type": "stream",
     "text": [
      "<class 'int'>\n",
      "Hello! How are you?Hello! How are you?\n"
     ]
    }
   ],
   "source": [
    "monthly_savings = 10\n",
    "num_months = 12\n",
    "intro = \"Hello! How are you?\"\n",
    "\n",
    "# Calculate year_savings using monthly_savings and num_months\n",
    "year_savings = monthly_savings * num_months\n",
    "\n",
    "# Print the type of year_savings\n",
    "print(type(year_savings))\n",
    "\n",
    "# Assign sum of intro and intro to doubleintro\n",
    "doubleintro = intro + intro\n",
    "\n",
    "# Print out doubleintro\n",
    "print(doubleintro)"
   ]
  },
  {
   "cell_type": "markdown",
   "metadata": {},
   "source": [
    "#### Type conversion\n",
    "Using the + operator to paste together two strings can be very useful in building custom messages.\n",
    "\n",
    "Suppose, for example, that you've calculated your savings want to summarize the results in a string.\n",
    "\n",
    "To do this, you'll need to explicitly convert the types of your variables. More specifically, you'll need str(), to convert a value into a string. str(savings), for example, will convert the integer savings to a string.\n",
    "\n",
    "Similar functions such as int(), float() and bool() will help you convert Python values into any type."
   ]
  },
  {
   "cell_type": "code",
   "execution_count": 12,
   "metadata": {},
   "outputs": [
    {
     "name": "stdout",
     "output_type": "stream",
     "text": [
      "I started with $100 and now have $150. Awesome!\n"
     ]
    },
    {
     "data": {
      "text/plain": [
       "3.1415926"
      ]
     },
     "execution_count": 12,
     "metadata": {},
     "output_type": "execute_result"
    }
   ],
   "source": [
    "# Definition of savings and total_savings\n",
    "savings = 100\n",
    "total_savings = 150\n",
    "\n",
    "# Fix the printout\n",
    "print(\"I started with $\" + str(savings) + \" and now have $\" + str(total_savings) + \". Awesome!\")\n",
    "\n",
    "# Definition of pi_string\n",
    "pi_string = \"3.1415926\"\n",
    "\n",
    "# Convert pi_string into float: pi_float\n",
    "pi_float = float(pi_string)\n",
    "pi_float"
   ]
  },
  {
   "cell_type": "markdown",
   "metadata": {},
   "source": [
    "##### Arithmetic operations with different types \n",
    "Note : In Python, the boolean values True and False are treated as 1 and 0 respectively when used in arithmetic contexts. Therefore, adding True and False together results in 1 (since 1 + 0 = 1)"
   ]
  },
  {
   "cell_type": "code",
   "execution_count": 13,
   "metadata": {},
   "outputs": [
    {
     "data": {
      "text/plain": [
       "1"
      ]
     },
     "execution_count": 13,
     "metadata": {},
     "output_type": "execute_result"
    }
   ],
   "source": [
    "\"I can add integers, like \" + str(5) + \" to strings.\"\n",
    "\n",
    "\"I said \" + (\"Hey \" * 2) + \"Hey!\"\n",
    "\n",
    "\"The correct answer to this multiple choice exercise is answer number \" + str(2)\n",
    "\n",
    "True + False"
   ]
  },
  {
   "cell_type": "markdown",
   "metadata": {},
   "source": [
    "### List\n",
    "As opposed to int, bool etc., a list is a compound data type; you can group values together.\n",
    "\n",
    "- Data Structure: A list is an ordered collection of items, which can be of different types (integers, strings, other lists, etc.).\n",
    "- Mutable: Lists can be modified after their creation; items can be added, removed, or changed.\n",
    "- Indexable: Each item in a list has a specific order and can be accessed using an index, starting from 0 for the first element.\n",
    "- Flexible: Lists can grow or shrink dynamically as items are added or removed.\n",
    "- Syntax: Defined by square brackets [], with items separated by commas, e.g., [1, 'hello', 3.14].\n",
    "- Versatile Functions: Supports numerous methods like append(), remove(), sort(), and many more to manipulate the data.\n",
    "- Supports Nesting: Lists can contain other lists, creating matrix-like structures or more complex data formats."
   ]
  },
  {
   "cell_type": "code",
   "execution_count": 14,
   "metadata": {},
   "outputs": [
    {
     "name": "stdout",
     "output_type": "stream",
     "text": [
      "[11.25, 18.0, 20.0, 10.75, 9.5]\n"
     ]
    }
   ],
   "source": [
    "# area variables (in square meters)\n",
    "hall = 11.25\n",
    "kit = 18.0\n",
    "liv = 20.0\n",
    "bed = 10.75\n",
    "bath = 9.50\n",
    "\n",
    "# Create list areas\n",
    "areas = [hall,kit,liv,bed,bath]\n",
    "# Print areas\n",
    "print(areas)"
   ]
  },
  {
   "cell_type": "markdown",
   "metadata": {},
   "source": [
    "##### Create list with different types\n",
    "A list can contain any Python type. Although it's not really common, a list can also contain a mix of Python types including strings, floats, booleans, etc.\n",
    "\n",
    "The printout of the previous exercise wasn't really satisfying. It's just a list of numbers representing the areas, but you can't tell which area corresponds to which part of your house.\n",
    "\n",
    "The code in the editor is the start of a solution. For some of the areas, the name of the corresponding room is already placed in front. Pay attention here! \"bathroom\" is a string, while bath is a variable that represents the float 9.50 you specified earlier."
   ]
  },
  {
   "cell_type": "code",
   "execution_count": 15,
   "metadata": {},
   "outputs": [
    {
     "name": "stdout",
     "output_type": "stream",
     "text": [
      "['hallway', 11.25, 'kitchen', 18.0, 'living room', 20.0, 'bedroom', 10.75, 'bathroom', 9.5]\n"
     ]
    }
   ],
   "source": [
    "# area variables (in square meters)\n",
    "hall = 11.25\n",
    "kit = 18.0\n",
    "liv = 20.0\n",
    "bed = 10.75\n",
    "bath = 9.50\n",
    "\n",
    "# Adapt list areas\n",
    "areas = [\"hallway\", hall, \"kitchen\", kit, \"living room\", liv, \"bedroom\", bed, \"bathroom\", bath]\n",
    "\n",
    "# Print areas\n",
    "print(areas)\n"
   ]
  },
  {
   "cell_type": "markdown",
   "metadata": {},
   "source": [
    "A list can contain any Python type. But a list itself is also a Python type. That means that a list can also contain a list!"
   ]
  },
  {
   "cell_type": "code",
   "execution_count": 16,
   "metadata": {},
   "outputs": [
    {
     "data": {
      "text/plain": [
       "[3, 'aaaaa', 3]"
      ]
     },
     "execution_count": 16,
     "metadata": {},
     "output_type": "execute_result"
    }
   ],
   "source": [
    "A= [1, 3, 4, 2] \n",
    "B=[[1, 2, 3], [4, 5, 7]] \n",
    "C= [1 + 2, \"a\" * 5, 3]\n",
    "\n",
    "C"
   ]
  },
  {
   "cell_type": "markdown",
   "metadata": {},
   "source": [
    "#### List of lists\n",
    "You'll often be dealing with a lot of data, and it will make sense to group some of this data.\n",
    "\n",
    "Instead of creating a flat list containing strings and floats, representing the names and areas of the rooms in your house, you can create a list of lists. \n",
    "\n",
    "Don't get confused here: \"hallway\" is a string, while hall is a variable that represents the float 11.25 you specified earlier."
   ]
  },
  {
   "cell_type": "code",
   "execution_count": 17,
   "metadata": {},
   "outputs": [
    {
     "name": "stdout",
     "output_type": "stream",
     "text": [
      "[['hallway', 11.25], ['kitchen', 18.0], ['living room', 20.0], ['bedroom', 10.75], ['bathroom', 9.5]]\n",
      "<class 'list'>\n"
     ]
    }
   ],
   "source": [
    "# house information as list of lists\n",
    "house = [[\"hallway\", hall],\n",
    "         [\"kitchen\", kit],\n",
    "         [\"living room\", liv],\n",
    "         [\"bedroom\", bed],\n",
    "         [\"bathroom\", bath]]\n",
    "\n",
    "# Print out house\n",
    "print(house)\n",
    "\n",
    "# Print out the type of house\n",
    "print(type(house))\n"
   ]
  },
  {
   "cell_type": "markdown",
   "metadata": {},
   "source": [
    "#### Subset and conquer\n",
    "Subsetting Python lists is a piece of cake. Take the code sample below, which creates a list x and then selects \"b\" from it. Remember that this is the second element, so it has index 1. You can also use negative indexing.\n",
    "\n",
    "\n"
   ]
  },
  {
   "cell_type": "code",
   "execution_count": 18,
   "metadata": {},
   "outputs": [
    {
     "data": {
      "text/plain": [
       "'b'"
      ]
     },
     "execution_count": 18,
     "metadata": {},
     "output_type": "execute_result"
    }
   ],
   "source": [
    "x = [\"a\", \"b\", \"c\", \"d\"]\n",
    "x[1]\n",
    "x[-3] #same result!"
   ]
  },
  {
   "cell_type": "markdown",
   "metadata": {},
   "source": [
    "So the areas list from before, containing both strings and floats. Let's add the correct code to do some Python subsetting."
   ]
  },
  {
   "cell_type": "code",
   "execution_count": 19,
   "metadata": {},
   "outputs": [
    {
     "name": "stdout",
     "output_type": "stream",
     "text": [
      "11.25\n",
      "9.5\n",
      "20.0\n"
     ]
    }
   ],
   "source": [
    "# Print out second element from areas\n",
    "print(areas[1])\n",
    "\n",
    "# Print out last element from areas\n",
    "print(areas[-1])\n",
    "\n",
    "# Print out the area of the living room\n",
    "print(areas[5])"
   ]
  },
  {
   "cell_type": "markdown",
   "metadata": {},
   "source": [
    "#### Subset and calculate\n",
    "After you've extracted values from a list, you can use them to perform additional calculations. Take this example, where the second and fourth element of a list x are extracted. The strings that result are pasted together using the + operator:"
   ]
  },
  {
   "cell_type": "code",
   "execution_count": 20,
   "metadata": {},
   "outputs": [
    {
     "name": "stdout",
     "output_type": "stream",
     "text": [
      "bd\n"
     ]
    }
   ],
   "source": [
    "\n",
    "print(x[1] + x[3])"
   ]
  },
  {
   "cell_type": "code",
   "execution_count": 21,
   "metadata": {},
   "outputs": [
    {
     "name": "stdout",
     "output_type": "stream",
     "text": [
      "28.75\n"
     ]
    }
   ],
   "source": [
    "# Sum of kitchen and bedroom area: eat_sleep_area\n",
    "eat_sleep_area = areas[3] + areas[-3]\n",
    "\n",
    "# Print the variable eat_sleep_area\n",
    "print(eat_sleep_area)\n"
   ]
  },
  {
   "cell_type": "markdown",
   "metadata": {},
   "source": [
    "#### Slicing and dicing\n",
    "Selecting single values from a list is just one part of the story. It's also possible to slice your list, which means selecting multiple elements from your list. Use the following syntax:\n",
    "\n",
    "my_list[start:end]\n",
    "\n",
    "The start index will be included, while the end index is not.\n",
    "\n",
    "However, it's also possible not to specify these indexes. If you don't specify the begin index, Python figures out that you want to start your slice at the beginning of your list. If you don't specify the end index, the slice will go all the way to the last element of your list. \n"
   ]
  },
  {
   "cell_type": "code",
   "execution_count": 22,
   "metadata": {},
   "outputs": [
    {
     "data": {
      "text/plain": [
       "['a', 'b', 'c', 'd']"
      ]
     },
     "execution_count": 22,
     "metadata": {},
     "output_type": "execute_result"
    }
   ],
   "source": [
    "x[1:3]\n",
    "x[:2]\n",
    "x[2:]\n",
    "x[:]"
   ]
  },
  {
   "cell_type": "code",
   "execution_count": 23,
   "metadata": {},
   "outputs": [
    {
     "name": "stdout",
     "output_type": "stream",
     "text": [
      "['hallway', 11.25, 'kitchen', 18.0, 'living room', 20.0]\n",
      "['bedroom', 10.75, 'bathroom', 9.5]\n"
     ]
    }
   ],
   "source": [
    "# Create the areas list\n",
    "areas = [\"hallway\", 11.25, \"kitchen\", 18.0, \"living room\", 20.0, \"bedroom\", 10.75, \"bathroom\", 9.50]\n",
    "\n",
    "# Use slicing to create downstairs (first 6 elements)\n",
    "downstairs =areas [:6]\n",
    "\n",
    "# Use slicing to create upstairs (last 4 elements)\n",
    "upstairs =areas [6:]\n",
    "\n",
    "# Print out downstairs and upstairs\n",
    "print(downstairs)\n",
    "print(upstairs)"
   ]
  },
  {
   "cell_type": "markdown",
   "metadata": {},
   "source": [
    "#### Subsetting lists of lists\n",
    "You saw before that a Python list can contain practically anything; even other lists! To subset lists of lists, you can use the same technique as before: square brackets."
   ]
  },
  {
   "cell_type": "code",
   "execution_count": 24,
   "metadata": {},
   "outputs": [
    {
     "data": {
      "text/plain": [
       "['g', 'h']"
      ]
     },
     "execution_count": 24,
     "metadata": {},
     "output_type": "execute_result"
    }
   ],
   "source": [
    "x = [[\"a\", \"b\", \"c\"],\n",
    "     [\"d\", \"e\", \"f\"],\n",
    "     [\"g\", \"h\", \"i\"]]\n",
    "x[2][0]\n",
    "x[2][:2]"
   ]
  },
  {
   "cell_type": "markdown",
   "metadata": {},
   "source": [
    "x[2] results in a list, that you can subset again by adding additional square brackets."
   ]
  },
  {
   "cell_type": "code",
   "execution_count": 25,
   "metadata": {},
   "outputs": [
    {
     "data": {
      "text/plain": [
       "9.5"
      ]
     },
     "execution_count": 25,
     "metadata": {},
     "output_type": "execute_result"
    }
   ],
   "source": [
    "house[-1][1]"
   ]
  },
  {
   "cell_type": "markdown",
   "metadata": {},
   "source": [
    "#### Replace list elements\n",
    "Replacing list elements is pretty easy. Simply subset the list and assign new values to the subset. You can select single elements or you can change entire list slices at once."
   ]
  },
  {
   "cell_type": "code",
   "execution_count": 26,
   "metadata": {},
   "outputs": [
    {
     "data": {
      "text/plain": [
       "[['a', 'b', 'c'], 'r', 's', 't']"
      ]
     },
     "execution_count": 26,
     "metadata": {},
     "output_type": "execute_result"
    }
   ],
   "source": [
    "x[1] = \"r\"\n",
    "x[2:] = [\"s\", \"t\"]\n",
    "x"
   ]
  },
  {
   "cell_type": "code",
   "execution_count": 27,
   "metadata": {},
   "outputs": [],
   "source": [
    "# Correct the bathroom area\n",
    "areas[-1] = 10.50\n",
    "\n",
    "# Change \"living room\" to \"chill zone\"\n",
    "areas[4] = \"chill zone\""
   ]
  },
  {
   "cell_type": "markdown",
   "metadata": {},
   "source": [
    "#### Extend a list\n",
    "If you can change elements in a list, you sure want to be able to add elements to it, right? You can use the + operator.\n",
    "+ operator add all the contains of the lists into one single list."
   ]
  },
  {
   "cell_type": "code",
   "execution_count": 28,
   "metadata": {},
   "outputs": [
    {
     "data": {
      "text/plain": [
       "['a', 'b', 'c', 'd', 'e', 'f']"
      ]
     },
     "execution_count": 28,
     "metadata": {},
     "output_type": "execute_result"
    }
   ],
   "source": [
    "x = [\"a\", \"b\", \"c\", \"d\"]\n",
    "y = x + [\"e\", \"f\"]\n",
    "y"
   ]
  },
  {
   "cell_type": "code",
   "execution_count": 29,
   "metadata": {},
   "outputs": [
    {
     "data": {
      "text/plain": [
       "['hallway',\n",
       " 11.25,\n",
       " 'kitchen',\n",
       " 18.0,\n",
       " 'chill zone',\n",
       " 20.0,\n",
       " 'bedroom',\n",
       " 10.75,\n",
       " 'bathroom',\n",
       " 10.5,\n",
       " 'poolhouse',\n",
       " 24.5,\n",
       " 'garage',\n",
       " 15.45]"
      ]
     },
     "execution_count": 29,
     "metadata": {},
     "output_type": "execute_result"
    }
   ],
   "source": [
    "# Create the areas list and make some changes\n",
    "areas = [\"hallway\", 11.25, \"kitchen\", 18.0, \"chill zone\", 20.0,\n",
    "         \"bedroom\", 10.75, \"bathroom\", 10.50]\n",
    "\n",
    "# Add poolhouse data to areas, new list is areas_1\n",
    "\n",
    "areas_1 = areas + [\"poolhouse\", 24.5]\n",
    "# Add garage data to areas_1, new list is areas_2\n",
    "areas_2 = areas_1 + [\"garage\", 15.45]\n",
    "areas_2"
   ]
  },
  {
   "cell_type": "markdown",
   "metadata": {},
   "source": [
    "#### Delete list elements\n",
    "Finally, you can also remove elements from your list. You can do this with the del statement:"
   ]
  },
  {
   "cell_type": "code",
   "execution_count": 30,
   "metadata": {},
   "outputs": [],
   "source": [
    "del(x[1])"
   ]
  },
  {
   "cell_type": "markdown",
   "metadata": {},
   "source": [
    "Pay attention here: as soon as you remove an element from a list, the indexes of the elements that come after the deleted element all cha\n",
    "\n",
    "There was a mistake! You decide to delete 'poolhouse' and its area value from the area_2 list\n",
    "\n"
   ]
  },
  {
   "cell_type": "code",
   "execution_count": 31,
   "metadata": {},
   "outputs": [],
   "source": [
    "del(areas_2[-4:-2])"
   ]
  },
  {
   "cell_type": "code",
   "execution_count": 32,
   "metadata": {},
   "outputs": [
    {
     "data": {
      "text/plain": [
       "['hallway',\n",
       " 11.25,\n",
       " 'kitchen',\n",
       " 18.0,\n",
       " 'chill zone',\n",
       " 20.0,\n",
       " 'bedroom',\n",
       " 10.75,\n",
       " 'bathroom',\n",
       " 10.5,\n",
       " 'garage',\n",
       " 15.45]"
      ]
     },
     "execution_count": 32,
     "metadata": {},
     "output_type": "execute_result"
    }
   ],
   "source": [
    "areas_2"
   ]
  },
  {
   "cell_type": "markdown",
   "metadata": {},
   "source": [
    "### Note:\n",
    "\n",
    "The ; sign is used to place commands on the same line. The following two code chunks are equivalent:\n",
    "\n",
    "#### Same line\n",
    "command1; command2\n",
    "\n",
    "#### Separate lines\n",
    "- command1\n",
    "- command2"
   ]
  },
  {
   "cell_type": "markdown",
   "metadata": {},
   "source": [
    "### Inner workings of lists\n",
    "How Python lists work behind the scenes:\n",
    "\n",
    "The Python code in the script already creates a list with the name areas and a copy named areas_copy. Next, the first element in the areas_copy list is changed and the areas list is printed out. If you hit Run Code you'll see that, although you've changed areas_copy, the change also takes effect in the areas list. That's because areas and areas_copy point to the same list.\n",
    "\n",
    "If you want to prevent changes in areas_copy from also taking effect in areas, you'll have to do a more explicit copy of the areas list. You can do this with list() or by using [:]."
   ]
  },
  {
   "cell_type": "code",
   "execution_count": 33,
   "metadata": {},
   "outputs": [
    {
     "name": "stdout",
     "output_type": "stream",
     "text": [
      "[5.0, 18.0, 20.0, 10.75, 9.5]\n"
     ]
    }
   ],
   "source": [
    "# Create list areas\n",
    "areas = [11.25, 18.0, 20.0, 10.75, 9.50]\n",
    "\n",
    "# Create areas_copy\n",
    "areas_copy = areas\n",
    "\n",
    "# Change areas_copy\n",
    "areas_copy[0] = 5.0\n",
    "\n",
    "# Print areas\n",
    "print(areas)"
   ]
  },
  {
   "cell_type": "markdown",
   "metadata": {},
   "source": [
    "Change the second command, that creates the variable areas_copy, such that areas_copy is an explicit copy of areas. After your edit, changes made to areas_copy shouldn't affect areas. Submit the answer to check this."
   ]
  },
  {
   "cell_type": "code",
   "execution_count": 34,
   "metadata": {},
   "outputs": [
    {
     "name": "stdout",
     "output_type": "stream",
     "text": [
      "[11.25, 18.0, 20.0, 10.75, 9.5]\n"
     ]
    }
   ],
   "source": [
    "# Create list areas\n",
    "areas = [11.25, 18.0, 20.0, 10.75, 9.50]\n",
    "\n",
    "# Create areas_copy\n",
    "areas_copy = list(areas)\n",
    "\n",
    "# Change areas_copy\n",
    "areas_copy[0] = 5.0\n",
    "\n",
    "# Print areas\n",
    "print(areas)"
   ]
  },
  {
   "cell_type": "markdown",
   "metadata": {},
   "source": [
    "#### Familiar functions\n",
    "Out of the box, Python offers a bunch of built-in functions to make your life easier. You already know two such functions: print() and type(). You've also used the functions str(), int(), bool() and float() to switch between data types. These are built-in functions as well.\n",
    "\n",
    "Calling a function is easy. To get the type of 3.0 and store the output as a new variable, result, you can use the following:\n",
    "result = type(3.0)\n",
    "\n",
    "The general recipe for calling functions and saving the result to a variable is thus:\n",
    "output = function_name(input)\n",
    "\n"
   ]
  },
  {
   "cell_type": "code",
   "execution_count": 35,
   "metadata": {},
   "outputs": [
    {
     "name": "stdout",
     "output_type": "stream",
     "text": [
      "<class 'list'>\n",
      "4\n",
      "1\n"
     ]
    }
   ],
   "source": [
    "# Create variables var1 and var2\n",
    "var1 = [1, 2, 3, 4]\n",
    "var2 = True\n",
    "\n",
    "# Print out type of var1\n",
    "print(type(var1))\n",
    "\n",
    "# Print out length of var1\n",
    "print(len(var1))\n",
    "\n",
    "# Convert var2 to an integer: out2\n",
    "out2 = int(var2)\n",
    "print(out2)"
   ]
  },
  {
   "cell_type": "markdown",
   "metadata": {},
   "source": [
    "Help!\n",
    "Maybe you already know the name of a Python function, but you still have to figure out how to use it. Ironically, you have to ask for information about a function with another function: help(). In IPython specifically, you can also use ? before the function name.\n",
    "\n",
    "To get help on the max() function, for example, you can use one of these calls:\n",
    "\n",
    "help(max)\n",
    "?max"
   ]
  },
  {
   "cell_type": "code",
   "execution_count": 36,
   "metadata": {},
   "outputs": [
    {
     "name": "stdout",
     "output_type": "stream",
     "text": [
      "Help on built-in function pow in module builtins:\n",
      "\n",
      "pow(base, exp, mod=None)\n",
      "    Equivalent to base**exp with 2 arguments or base**exp % mod with 3 arguments\n",
      "    \n",
      "    Some types, such as ints, are able to use a more efficient algorithm when\n",
      "    invoked using the three argument form.\n",
      "\n"
     ]
    }
   ],
   "source": [
    "help(pow)"
   ]
  },
  {
   "cell_type": "markdown",
   "metadata": {},
   "source": [
    "So, pow() takes three arguments: base, exp, and mod. base and exp are required arguments, mod is an optional argument."
   ]
  },
  {
   "cell_type": "markdown",
   "metadata": {},
   "source": [
    "#### Multiple arguments\n",
    "In the previous exercise, you identified optional arguments by viewing the documentation with help(). You'll now apply this to change the behavior of the sorted() function.\n",
    "\n",
    "Have a look at the documentation of sorted() by typing help(sorted) in the IPython Shell.\n",
    "\n",
    "You'll see that sorted() takes three arguments: iterable, key, and reverse.\n",
    "\n",
    "key=None means that if you don't specify the key argument, it will be None. reverse=False means that if you don't specify the reverse argument, it will be False, by default.\n",
    "\n",
    "In the exercise below, you'll only have to specify iterable and reverse, not key. The first input you pass to sorted() will be matched to the iterable argument, but what about the second input? To tell Python you want to specify reverse without changing anything about key, you can use = to assign it a new value:\n",
    "\n",
    "sorted(____, reverse=____)"
   ]
  },
  {
   "cell_type": "code",
   "execution_count": 37,
   "metadata": {},
   "outputs": [
    {
     "name": "stdout",
     "output_type": "stream",
     "text": [
      "Help on built-in function sorted in module builtins:\n",
      "\n",
      "sorted(iterable, /, *, key=None, reverse=False)\n",
      "    Return a new list containing all items from the iterable in ascending order.\n",
      "    \n",
      "    A custom key function can be supplied to customize the sort order, and the\n",
      "    reverse flag can be set to request the result in descending order.\n",
      "\n"
     ]
    }
   ],
   "source": [
    "help(sorted)"
   ]
  },
  {
   "cell_type": "code",
   "execution_count": 38,
   "metadata": {},
   "outputs": [
    {
     "name": "stdout",
     "output_type": "stream",
     "text": [
      "[20.0, 18.0, 11.25, 10.75, 9.5]\n"
     ]
    }
   ],
   "source": [
    "# Create lists first and second\n",
    "first = [11.25, 18.0, 20.0]\n",
    "second = [10.75, 9.50]\n",
    "\n",
    "# Paste together first and second: full\n",
    "full = first + second \n",
    "\n",
    "# Sort full in descending order: full_sorted\n",
    "\n",
    "full_sorted = sorted(full, reverse = True)\n",
    "# Print out full_sorted\n",
    "\n",
    "print(full_sorted)\n"
   ]
  },
  {
   "cell_type": "markdown",
   "metadata": {},
   "source": [
    "#### String Methods\n",
    "Strings come with a bunch of methods. Follow the instructions closely to discover some of them. If you want to discover them in more detail, you can always type help(str)."
   ]
  },
  {
   "cell_type": "code",
   "execution_count": 39,
   "metadata": {},
   "outputs": [
    {
     "name": "stdout",
     "output_type": "stream",
     "text": [
      "poolhouse\n",
      "POOLHOUSE\n",
      "3\n"
     ]
    }
   ],
   "source": [
    "# string to experiment with: place\n",
    "place = \"poolhouse\"\n",
    "\n",
    "# Use upper() on place: place_up\n",
    "place_up = place.upper()\n",
    "\n",
    "# Print out place and place_up\n",
    "print(place)\n",
    "print(place_up)\n",
    "\n",
    "# Print out the number of o's in place\n",
    "print(place.count(\"o\"))"
   ]
  },
  {
   "cell_type": "markdown",
   "metadata": {},
   "source": [
    "#### List Methods\n",
    "Strings are not the only Python types that have methods associated with them. Lists, floats, integers and booleans are also types that come packaged with a bunch of useful methods. In this exercise, you'll be experimenting with:\n",
    "\n",
    "index(), to get the index of the first element of a list that matches its input and\n",
    "count(), to get the number of times an element appears in a list.\n",
    "You'll be working on the list with the area of different parts of a house: areas."
   ]
  },
  {
   "cell_type": "code",
   "execution_count": 40,
   "metadata": {},
   "outputs": [
    {
     "name": "stdout",
     "output_type": "stream",
     "text": [
      "2\n",
      "1\n"
     ]
    }
   ],
   "source": [
    "# Create list areas\n",
    "areas = [11.25, 18.0, 20.0, 10.75, 9.50]\n",
    "\n",
    "# Print out the index of the element 20.0\n",
    "print(areas.index(20.0))\n",
    "\n",
    "# Print out how often 9.50 appears in areas\n",
    "print(areas.count(9.50))"
   ]
  },
  {
   "cell_type": "markdown",
   "metadata": {},
   "source": [
    "Most list methods will change the list they're called on. Examples are:\n",
    "\n",
    "append(), that adds an element to the list it is called on,\n",
    "remove(), that removes the first element of a list that matches the input, and\n",
    "reverse(), that reverses the order of the elements in the list it is called on.\n",
    "You'll be working on the list with the area of different parts of the house: areas."
   ]
  },
  {
   "cell_type": "code",
   "execution_count": null,
   "metadata": {},
   "outputs": [],
   "source": [
    "# Create list areas\n",
    "areas = [11.25, 18.0, 20.0, 10.75, 9.50]\n",
    "\n",
    "# Use append twice to add poolhouse and garage size\n",
    "areas.append(24.5)\n",
    "areas.append(15.45)\n",
    "\n",
    "\n",
    "# Print out areas\n",
    "print(areas)\n",
    "\n",
    "# Reverse the orders of the elements in areas\n",
    "areas.reverse()\n",
    "\n",
    "# Print out areas\n",
    "print(areas)"
   ]
  },
  {
   "cell_type": "markdown",
   "metadata": {},
   "source": [
    "#### Import package\n",
    "\n",
    "For a fancy clustering algorithm, you want to find the circumference, , and area, , of a circle. When the radius of the circle is r, you can calculate  and  as:\n",
    "\n",
    "\n",
    "In Python, the symbol for exponentiation is **. This operator raises the number to its left to the power of the number to its right. For example 3**4 is 3 to the power of 4 and will give 81.\n",
    "\n",
    "To use the constant pi, you'll need the math package. A variable r is already coded in the script. Fill in the code to calculate C and A and see how the print() functions create some nice printouts."
   ]
  },
  {
   "cell_type": "code",
   "execution_count": null,
   "metadata": {},
   "outputs": [],
   "source": [
    "# Import the math package\n",
    "import math\n",
    "\n",
    "# Definition of radius\n",
    "r = 0.43\n",
    "\n",
    "# Calculate C\n",
    "C = 2 * math.pi * r\n",
    "\n",
    "# Calculate A\n",
    "A = math.pi * r ** 2\n",
    "\n",
    "# Build printout\n",
    "print(\"Circumference: \" + str(C))\n",
    "print(\"Area: \" + str(A))"
   ]
  },
  {
   "cell_type": "markdown",
   "metadata": {},
   "source": [
    "#### Selective import\n",
    "General imports, like import math, make all functionality from the math package available to you. However, if you decide to only use a specific part of a package, you can always make your import more selective:\n",
    "\n",
    "from math import pi\n",
    "\n",
    "Let's say the Moon's orbit around planet Earth is a perfect circle, with a radius r (in km) that is defined in the script."
   ]
  },
  {
   "cell_type": "code",
   "execution_count": 42,
   "metadata": {},
   "outputs": [
    {
     "name": "stdout",
     "output_type": "stream",
     "text": [
      "40317.10572106901\n"
     ]
    }
   ],
   "source": [
    "# Import radians function of math package\n",
    "from math import radians\n",
    "\n",
    "# Definition of radius\n",
    "r = 192500\n",
    "\n",
    "# Travel distance of Moon over 12 degrees. Store in dist.\n",
    "dist = r * radians(12)\n",
    "\n",
    "\n",
    "# Print out dist\n",
    "\n",
    "print(dist)\n"
   ]
  }
 ],
 "metadata": {
  "kernelspec": {
   "display_name": "Python 3",
   "language": "python",
   "name": "python3"
  },
  "language_info": {
   "codemirror_mode": {
    "name": "ipython",
    "version": 3
   },
   "file_extension": ".py",
   "mimetype": "text/x-python",
   "name": "python",
   "nbconvert_exporter": "python",
   "pygments_lexer": "ipython3",
   "version": "3.9.6"
  }
 },
 "nbformat": 4,
 "nbformat_minor": 2
}
