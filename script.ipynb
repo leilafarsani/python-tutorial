{
 "cells": [
  {
   "cell_type": "markdown",
   "metadata": {},
   "source": [
    "# python-tutorial\n",
    "### Introduction\n",
    "\n",
    "#### Definition\n",
    "Python is a dynamic and strongly typed programming language. It employs both duck typing and gradual typing, via type hints.\n",
    "\n",
    "Imperative, declarative (e.g., functional), and object-oriented programming styles are all supported, but internally everything in Python is an object.\n",
    "\n",
    "Python puts a strong emphasis on code readability and (similar to Haskell) uses significant indentation to denote function, method, and class definitions.\n",
    "\n",
    "Python was created by Guido van Rossum and first released in 1991.\n",
    "\n",
    "#### Why Python?\n",
    "\n",
    "1.\tReadability: Python’s syntax is designed to be clear and straightforward. It reads almost like plain English, making it easy for newcomers to understand and write code.\n",
    "2.\tVersatility: Python is a Swiss Army knife of programming languages. You can use it for web development, data analysis, scientific computing, automation, artificial intelligence, and more.\n",
    "3.\tLarge Community: Python boasts a vibrant and supportive community. There are countless tutorials, libraries, and forums to help you learn and solve problems.\n",
    "4.\tCross-Platform: Whether you use Windows, macOS, or Linux, Python works seamlessly on all major operating systems.\n",
    "5.\tRich Ecosystem: Python comes with a vast standard library that provides pre-built modules for various tasks, saving \n",
    "\tyou time and effort.\n",
    "\n",
    "\n",
    "\n",
    "\n",
    "### Comment \n",
    "We can add comments to our Python scripts. Comments are important to make sure that you and others can understand what your code is about and do not run as Python code. They start with # tag. \n",
    "\n",
    "\n",
    "\n",
    "\n"
   ]
  },
  {
   "cell_type": "markdown",
   "metadata": {},
   "source": [
    "\n",
    "### Python as a calculator\n",
    "Python is perfectly suited to do basic calculations. It can do addition, subtraction, multiplication and division."
   ]
  },
  {
   "cell_type": "code",
   "execution_count": 3,
   "metadata": {},
   "outputs": [
    {
     "name": "stdout",
     "output_type": "stream",
     "text": [
      "9\n",
      "0\n",
      "15\n",
      "5.0\n"
     ]
    }
   ],
   "source": [
    "# Addition\n",
    "print(4+5)\n",
    "\n",
    "# Subtraction\n",
    "print(5 - 5)\n",
    "\n",
    "# Multiplication\n",
    "print(3*5)\n",
    "\n",
    "# Division\n",
    "print(10/2)\n"
   ]
  },
  {
   "cell_type": "markdown",
   "metadata": {},
   "source": [
    "### Variables \n",
    "\n",
    " A variable is a name that refers to a value stored in the computer's memory. It acts as a placeholder or a label, allowing programmers to access and manipulate data throughout their code. In Python, a variable allows you to refer to a value with a name. Variables are created by assigning a value to them using the equal sign (=), and their values can be changed as needed.\n",
    " \n",
    "\n",
    "Python is dynamically typed, meaning we don't need to declare a variable's type ahead of time; the type is inferred at runtime based on the assigned value."
   ]
  },
  {
   "cell_type": "code",
   "execution_count": 6,
   "metadata": {},
   "outputs": [
    {
     "name": "stdout",
     "output_type": "stream",
     "text": [
      "10\n"
     ]
    },
    {
     "data": {
      "text/plain": [
       "'Leila'"
      ]
     },
     "execution_count": 6,
     "metadata": {},
     "output_type": "execute_result"
    }
   ],
   "source": [
    "x = 10        # An integer assignment\n",
    "name = \"Leila\" # A string assignment\n",
    "\n",
    "# Here, x and name are variables. x holds an integer value 10, and name holds the string \"Leila\".\n",
    "\n",
    "print(x)\n",
    "name"
   ]
  },
  {
   "cell_type": "code",
   "execution_count": 7,
   "metadata": {},
   "outputs": [
    {
     "name": "stdout",
     "output_type": "stream",
     "text": [
      "100\n"
     ]
    }
   ],
   "source": [
    "# Create a variable savings\n",
    "savings = 100\n",
    "\n",
    "# Print out savings\n",
    "print(savings)"
   ]
  },
  {
   "cell_type": "markdown",
   "metadata": {},
   "source": [
    "#### Calculations with variables\n",
    "You've now created a savings variable, so let's start saving!\n",
    "\n",
    "Instead of calculating with the actual values, you can use variables instead. The savings variable you created in the previous exercise with a value of 100 is available to you.\n",
    "\n",
    "How much money would you have saved four months from now, if you saved £10 each month?"
   ]
  },
  {
   "cell_type": "code",
   "execution_count": 8,
   "metadata": {},
   "outputs": [
    {
     "name": "stdout",
     "output_type": "stream",
     "text": [
      "140\n"
     ]
    }
   ],
   "source": [
    "# Create the variables monthly_savings and num_months\n",
    "monthly_savings = 10\n",
    "num_months = 4\n",
    "\n",
    "# Multiply monthly_savings and num_months\n",
    "new_savings = monthly_savings * num_months\n",
    "\n",
    "# Add new_savings to your savings\n",
    "total_savings = savings + new_savings\n",
    "\n",
    "# Print total_savings\n",
    "print(total_savings)\n"
   ]
  },
  {
   "cell_type": "markdown",
   "metadata": {},
   "source": [
    "### Variables Type (Data Types in Python)\n",
    "\n",
    "1. integers (int): Used for whole numbers.\n",
    "2. Floating-point numbers (float): Used for numbers with decimals or in exponential form.\n",
    "3. Strings (str): Used for textual data.\n",
    "4. Booleans (bool): Used to represent True or False conditions.\n",
    "5. Lists (list): Mutable sequences used to store collections of items (elements can be added, removed, or changed).\n",
    "6. Tuples (tuple): Immutable sequences, meaning once created, their elements cannot be changed.\n",
    "7. Dictionaries (dict): Mutable collections that store data as key-value pairs.\n",
    "8. Sets (set): Mutable collections of unique elements used to perform common set operations.\n",
    "9. Each of these types plays a crucial role in handling data in Python, enabling developers to solve a wide "
   ]
  }
 ],
 "metadata": {
  "kernelspec": {
   "display_name": "Python 3",
   "language": "python",
   "name": "python3"
  },
  "language_info": {
   "codemirror_mode": {
    "name": "ipython",
    "version": 3
   },
   "file_extension": ".py",
   "mimetype": "text/x-python",
   "name": "python",
   "nbconvert_exporter": "python",
   "pygments_lexer": "ipython3",
   "version": "3.9.6"
  }
 },
 "nbformat": 4,
 "nbformat_minor": 2
}
