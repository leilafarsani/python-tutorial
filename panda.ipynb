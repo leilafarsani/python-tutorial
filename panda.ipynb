{
 "cells": [
  {
   "cell_type": "markdown",
   "metadata": {},
   "source": [
    "### Panda\n",
    "In Python, pandas is an open-source library that provides high-performance, easy-to-use data structures and data analysis tools. Here's a more detailed definition:\n",
    "\n",
    "- Data Structures: Pandas introduces two primary new data structures to Python – DataFrame and Series. A DataFrame is a two-dimensional, size-mutable, potentially heterogeneous tabular data structure with labeled axes (rows and columns). A Series is a one-dimensional array-like object containing a sequence of values and associated array of data labels, called its index.\n",
    "\n",
    "- Functionality: The library includes functions for reading, writing, and manipulating data; handling missing data; filtering data; and performing data aggregation, among other operations. It can handle data from a variety of formats such as CSV, Excel, SQL databases, and JSON.\n",
    "\n",
    "- Use Cases: Pandas is widely used in various fields of data analysis, including finance, economics, statistics, advertising, Web analytics, and more. It is particularly suited for structured data operations and manipulations without needing to revert to more domain-specific languages like SQL.\n",
    "\n",
    "- Pandas is part of the larger ecosystem of Python libraries used for scientific computing, which includes libraries such as NumPy and Matplotlib. It integrates well with these libraries, enabling users to perform comprehensive data analysis workflows with ease."
   ]
  }
 ],
 "metadata": {
  "language_info": {
   "name": "python"
  }
 },
 "nbformat": 4,
 "nbformat_minor": 2
}
