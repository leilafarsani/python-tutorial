{
 "cells": [
  {
   "cell_type": "markdown",
   "metadata": {},
   "source": [
    "### Nnmpy\n",
    "NumPy (Numerical Python) is an open-source Python library that is widely used for scientific computing. It provides support for large, multi-dimensional arrays and matrices, along with a large collection of high-level mathematical functions to operate on these arrays. NumPy is crucial for data analysis, machine learning, and engineering applications because it enables efficient numerical computation with Python. Here are some key features of NumPy:\n",
    "\n",
    "- Efficient Array Storage and Processing: NumPy arrays are more efficient for storing and manipulating data than Python's built-in list structures.\n",
    "\n",
    "- Vectorized Operations: NumPy allows you to perform operations on arrays without writing loops, which can lead to significant performance improvements.\n",
    "\n",
    "- Broadcasting Capabilities: This feature allows NumPy to work with arrays of different shapes during arithmetic operations.\n",
    "\n",
    "- Integrated Mathematical Functions: NumPy provides many functions that are essential for performing statistical analyses and other mathematical operations on arrays.\n",
    "\n",
    "- Linear Algebra Operations: Tools for solving linear equations, finding eigenvalues, and matrix operations are readily available in NumPy.\n",
    "\n",
    "- Random Number Generation: It includes capabilities to generate arrays of random numbers and perform random sampling.\n",
    "\n",
    "Due to its performance and versatile functionality, NumPy is a foundational library for many other Python data science and machine learning libraries like SciPy, Pandas, and Scikit-learn."
   ]
  },
  {
   "cell_type": "markdown",
   "metadata": {},
   "source": [
    "### NumPy Array\n",
    "In this chapter, we're going to dive into the world of baseball. Along the way, you'll get comfortable with the basics of numpy, a powerful package to do data science.\n",
    "\n",
    "A list baseball has already been defined in the Python script, representing the height of some baseball players in centimeters. Can you add some code here and there to create a numpy array from it?"
   ]
  },
  {
   "cell_type": "code",
   "execution_count": 3,
   "metadata": {},
   "outputs": [
    {
     "name": "stdout",
     "output_type": "stream",
     "text": [
      "[180 215 210 210 188 176 209 200]\n",
      "<class 'numpy.ndarray'>\n"
     ]
    }
   ],
   "source": [
    "# Import the numpy package as np so that you can refer to numpy with np.\n",
    "import numpy as np\n",
    "\n",
    "# Create list baseball\n",
    "baseball = [180, 215, 210, 210, 188, 176, 209, 200]\n",
    "\n",
    "# Create a numpy array from baseball: np_baseball\n",
    "np_baseball = np.array(baseball)\n",
    "print(np_baseball)\n",
    "\n",
    "\n",
    "# Print out type of np_baseball\n",
    "print(type(np_baseball))\n"
   ]
  },
  {
   "cell_type": "markdown",
   "metadata": {},
   "source": [
    "#### Baseball players' height\n",
    "You are a huge baseball fan. You decide to call the MLB (Major League Baseball) and ask around for some more statistics on the height of the main players. They pass along data on more than a thousand players, which is stored as a regular Python list: height_in. The height is expressed in inches. Can you make a numpy array out of it and convert the units to meters?"
   ]
  },
  {
   "cell_type": "code",
   "execution_count": 5,
   "metadata": {},
   "outputs": [
    {
     "name": "stdout",
     "output_type": "stream",
     "text": [
      "[74, 74, 72, 75, 75, 73]\n",
      "[74 74 72 75 75 73]\n",
      "[1.8796 1.8796 1.8288 1.905  1.905  1.8542]\n"
     ]
    }
   ],
   "source": [
    "height_in = [74, 74, 72, 75, 75, 73] \n",
    "# Create a numpy array from height_in: np_height_in\n",
    "print(height_in)\n",
    "\n",
    "np_height_in = np.array(height_in)\n",
    "\n",
    "# Print out np_height_in\n",
    "print(np_height_in)\n",
    "\n",
    "\n",
    "# Convert np_height_in to m: np_height_m\n",
    "np_height_m = np_height_in * 0.0254\n",
    "\n",
    "# Print np_height_m\n",
    "print(np_height_m)"
   ]
  }
 ],
 "metadata": {
  "kernelspec": {
   "display_name": "Python 3",
   "language": "python",
   "name": "python3"
  },
  "language_info": {
   "codemirror_mode": {
    "name": "ipython",
    "version": 3
   },
   "file_extension": ".py",
   "mimetype": "text/x-python",
   "name": "python",
   "nbconvert_exporter": "python",
   "pygments_lexer": "ipython3",
   "version": "3.9.6"
  }
 },
 "nbformat": 4,
 "nbformat_minor": 2
}
